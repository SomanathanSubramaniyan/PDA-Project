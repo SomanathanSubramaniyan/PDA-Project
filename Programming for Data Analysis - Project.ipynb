{
 "cells": [
  {
   "cell_type": "markdown",
   "metadata": {},
   "source": [
    "# Project - Programming for Data Analysis\n",
    "***\n"
   ]
  },
  {
   "cell_type": "markdown",
   "metadata": {},
   "source": [
    "### References\n",
    "\n",
    "**Road Safty Authority (RSA)**       *www.rsa.ie/en/RSA/Road-Safety/Our-Research/Deaths-injuries-on-Irish-roads/*  <br>\n",
    "**pandas**       *http://pandas.pydata.org/pandas-docs/stable/*"
   ]
  },
  {
   "cell_type": "markdown",
   "metadata": {},
   "source": [
    "### Background\n",
    "\n",
    "The below summmary is based on the road accidents statistics prepared by the Road Saftey Authority in the year 2016.\n",
    "\n",
    "    - There were 175 fatal collisions happened in the Irish roads which resulted in 187 fatalities\n",
    "    - 13% more collisions and 15% more deaths compared to the previous year (2015)\n",
    "    - Maximum number of fatalities occured in counties Dublin and Cork\n",
    "    - Highest fatalities occured in the age group \"66 and above\"\n",
    "    - Maximum fatalities occured for the road user type \"Driver\"\n",
    "    - Maximum number of fatalities occured on the week day \"Sunday\"\n"
   ]
  },
  {
   "cell_type": "code",
   "execution_count": null,
   "metadata": {},
   "outputs": [],
   "source": []
  }
 ],
 "metadata": {
  "kernelspec": {
   "display_name": "Python 3",
   "language": "python",
   "name": "python3"
  },
  "language_info": {
   "codemirror_mode": {
    "name": "ipython",
    "version": 3
   },
   "file_extension": ".py",
   "mimetype": "text/x-python",
   "name": "python",
   "nbconvert_exporter": "python",
   "pygments_lexer": "ipython3",
   "version": "3.6.6"
  }
 },
 "nbformat": 4,
 "nbformat_minor": 2
}
