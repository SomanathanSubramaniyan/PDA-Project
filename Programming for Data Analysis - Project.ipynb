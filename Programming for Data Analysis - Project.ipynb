{
 "cells": [
  {
   "cell_type": "markdown",
   "metadata": {},
   "source": [
    "# Project - Programming for Data Analysis\n",
    "***\n"
   ]
  },
  {
   "cell_type": "markdown",
   "metadata": {},
   "source": [
    "### References\n",
    "***\n",
    "**Road Safty Authority (RSA)**       \n",
    "    - www.rsa.ie/en/RSA/Road-Safety/Our-Research/Deaths-injuries-on-Irish-roads  \n",
    "    - www.rsa.ie/Documents \n",
    "**Irish Times** \n",
    "    - https://www.irishtimes.com/news/environment/crash-report\n",
    "**Technical References**       \n",
    "    - http://pandas.pydata.org/pandas-docs/stable/\n",
    "    - https://docs.scipy.org/doc/numpy/reference/routines.random.html\n",
    "\n",
    "***"
   ]
  },
  {
   "cell_type": "markdown",
   "metadata": {},
   "source": [
    "***\n",
    "\n",
    "**Real Scenario** <br> <br>\n",
    "The below summmary is based on the road accidents statistics prepared by the Road Saftey Authority in the year 2016.\n",
    "\n",
    "    - There were 175 fatal collisions happened in the Irish roads which resulted in 187 fatalities\n",
    "    - 13% more collisions and 15% more deaths compared to the previous year (2015)\n",
    "    - Maximum number of fatalities occured in counties Dublin and Cork\n",
    "    - Highest fatalities occured in the age group \"66 and above\"\n",
    "    - Maximum fatalities occured for the road user type \"Driver\"\n",
    "    - Maximum number of fatalities occured on the week day \"Sunday\"\n",
    "\n",
    "***\n",
    "**Project** <br> <br>\n",
    "This project is inspired from the above real world scenario. The objectives of the projects are listed below\n",
    "\n",
    "    - Generate 200 data sets using the python random sampling functions\n",
    "    - Each data set to contain 6 variables \n",
    "    \n",
    "               - Irish counties where the accident took place\n",
    "               - Age group of the Driver [ Traditionalists, Baby Boomers, Gen-X, Gen-Y, Gen-Z]\n",
    "               - Type of the Vehicle [Car, Van, Bus, Lorry, bi-cycle, Jeep]\n",
    "               - Road Type [Two-way single carriageway, One-way single carriageway, Dual Carriageway]\n",
    "               - Weather on the particular day [Sunny, Rainy, Snow, Windy, cloudy]\n",
    "        \n",
    "    - Plot interesting aspects of the datasets. \n",
    "    - Investigate the types of variables involved, their likely distributions, and their relationships with each other.\n",
    "    - Summarise the findings.\n",
    "    \n",
    "***"
   ]
  },
  {
   "cell_type": "code",
   "execution_count": 8,
   "metadata": {},
   "outputs": [],
   "source": [
    "#Import Pandas library\n",
    "import pandas as pd\n",
    "\n",
    "# Variable 1 - Counties\n",
    "# The irish counties are stored in the Json file\n",
    "# Create a dataframe for the irish counties\n",
    "url = \"https://raw.githubusercontent.com/SomanathanSubramaniyan/PDA-Project/master/Counties.json\"\n",
    "df_counties = pd.read_json(url, orient='columns')\n",
    "df_counties[2:2]\n",
    "\n",
    "# Variable 2 - Age group of the Driver\n",
    "# Create a  list for the AgeGroup\n",
    "AgeGroup =['Traditionalists', 'Baby Boomers', 'Gen-X', 'Gen-Y', 'Gen-Z']\n",
    "\n",
    "# Variable 3 - Type of the Vehicle\n",
    "# Create a  list for different type of vechicles\n",
    "VehicleType = ['Car', 'Van', 'Bus', 'Lorry', 'bi-cycle', 'Jeep']\n",
    "\n",
    "# Variable 4 - Road type\n",
    "# Create a  list for different Road Types\n",
    "RoadType = ['Two-way single carriageway', 'One-way single carriageway', 'Dual Carriageway']\n",
    "\n",
    "# Variable 5 - weather\n",
    "# Create a  list for different weather scenarios\n",
    "Weather = ['Sunny', 'Rainy', 'Snow', 'Windy', 'Cloudy']"
   ]
  },
  {
   "cell_type": "code",
   "execution_count": 24,
   "metadata": {},
   "outputs": [
    {
     "data": {
      "text/plain": [
       "4"
      ]
     },
     "execution_count": 24,
     "metadata": {},
     "output_type": "execute_result"
    }
   ],
   "source": [
    "import numpy as np\n",
    "mu = 3\n",
    "sigma = 1\n",
    "for i in np.random.normal(mu, sigma, 5):\n",
    "    round(3.8)\n"
   ]
  },
  {
   "cell_type": "code",
   "execution_count": null,
   "metadata": {},
   "outputs": [],
   "source": []
  },
  {
   "cell_type": "code",
   "execution_count": null,
   "metadata": {},
   "outputs": [],
   "source": []
  }
 ],
 "metadata": {
  "kernelspec": {
   "display_name": "Python 3",
   "language": "python",
   "name": "python3"
  },
  "language_info": {
   "codemirror_mode": {
    "name": "ipython",
    "version": 3
   },
   "file_extension": ".py",
   "mimetype": "text/x-python",
   "name": "python",
   "nbconvert_exporter": "python",
   "pygments_lexer": "ipython3",
   "version": "3.6.6"
  }
 },
 "nbformat": 4,
 "nbformat_minor": 2
}
