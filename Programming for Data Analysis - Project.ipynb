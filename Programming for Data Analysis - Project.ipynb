{
 "cells": [
  {
   "cell_type": "markdown",
   "metadata": {},
   "source": [
    "# Project - Programming for Data Analysis\n",
    "***\n"
   ]
  },
  {
   "cell_type": "markdown",
   "metadata": {},
   "source": [
    "### References\n",
    "***\n",
    "**Road Safty Authority (RSA)**       \n",
    "    - www.rsa.ie/en/RSA/Road-Safety/Our-Research/Deaths-injuries-on-Irish-roads  \n",
    "    - www.rsa.ie/Documents \n",
    "**Irish Times** \n",
    "    - https://www.irishtimes.com/news/environment/crash-report\n",
    "**Technical References**       \n",
    "    - http://pandas.pydata.org/pandas-docs/stable/\n",
    "    - https://docs.scipy.org/doc/numpy/reference/routines.random.html\n",
    "    - https://www.bogotobogo.com/python/python_fncs_map_filter_reduce.php\n",
    "    - https://www.analyticsvidhya.com/blog/2017/09/6-probability-distributions-data-science/\n",
    "    - http://effbot.org/zone/python-list.htm\n",
    "\n",
    "\n",
    "***"
   ]
  },
  {
   "cell_type": "markdown",
   "metadata": {},
   "source": [
    "***\n",
    "\n",
    "**Real Scenario** <br> <br>\n",
    "The below summmary is based on the road accidents statistics prepared by the Road Saftey Authority in the year 2016.\n",
    "\n",
    "    - There were 175 fatal collisions happened in the Irish roads which resulted in 187 fatalities\n",
    "    - 13% more collisions and 15% more deaths compared to the previous year (2015)\n",
    "    - Maximum number of fatalities occured in counties Dublin and Cork\n",
    "    - Highest fatalities occured in the age group \"66 and above\"\n",
    "    - Maximum fatalities occured for the road user type \"Driver\"\n",
    "    - Maximum number of fatalities occured on the week day \"Sunday\"\n",
    "\n",
    "***\n",
    "**Project** <br> <br>\n",
    "This project is inspired from the above real world scenario. The objectives of the projects are listed below\n",
    "\n",
    "    - Generate 200 data sets using the python random sampling functions\n",
    "    - Each data set to contain 6 variables \n",
    "    \n",
    "               - Irish counties where the accident took place\n",
    "               - Age group of the Driver [ Traditionalists, Baby Boomers, Gen-X, Gen-Y, Gen-Z]\n",
    "               - Type of the Vehicle [Car, Van, Bus, Lorry, bi-cycle, Jeep]\n",
    "               - Road Type [Two-way single carriageway, One-way single carriageway, Dual Carriageway]\n",
    "               - Weather on the particular day [Sunny, Rainy, Snow, Windy, cloudy]\n",
    "        \n",
    "    - Investigate the types of variables involved, their likely distributions, and their relationships with each other.\n",
    "    - Summarise the findings.\n",
    "    \n",
    "***"
   ]
  },
  {
   "cell_type": "code",
   "execution_count": 71,
   "metadata": {},
   "outputs": [],
   "source": [
    "#Import Pandas library\n",
    "import pandas as pd\n",
    "\n",
    "# Variable 1 - Counties\n",
    "# The irish counties are stored in the Json file\n",
    "# Create a dataframe for the irish counties\n",
    "url = \"https://raw.githubusercontent.com/SomanathanSubramaniyan/PDA-Project/master/Counties.json\"\n",
    "df_counties = pd.read_json(url, orient='columns')\n",
    "df_counties[2:2]\n",
    "\n",
    "# Variable 2 - Age group of the Driver\n",
    "# Create a  list for the AgeGroup\n",
    "AgeGroup =['Traditionalists', 'Baby Boomers', 'Gen-X', 'Gen-Y', 'Gen-Z']\n",
    "\n",
    "# Variable 3 - Type of the Vehicle\n",
    "# Create a  list for different type of vechicles\n",
    "VehicleType = ['Car', 'Van', 'Bus', 'Lorry', 'bi-cycle', 'Jeep']\n",
    "\n",
    "# Variable 4 - Road type\n",
    "# Create a  list for different Road Types\n",
    "RoadType = ['Two-way single carriageway', 'One-way single carriageway', 'Dual Carriageway']\n",
    "\n",
    "# Variable 5 - weather\n",
    "# Create a  list for different weather scenarios\n",
    "Weather = ['Sunny', 'Rainy', 'Snow', 'Windy', 'Cloudy']"
   ]
  },
  {
   "cell_type": "code",
   "execution_count": 204,
   "metadata": {},
   "outputs": [
    {
     "data": {
      "text/plain": [
       "array(['Wexford', 'Carlow', 'Louth', 'Cork', 'Down', 'Sligo', 'Kildare',\n",
       "       'Clare', 'Mayo', 'Longford', 'Tipperary', 'Galway', 'Meath',\n",
       "       'Offaly', 'Waterford', 'Donegal', 'Cavan', 'Westmeath', 'Monaghan',\n",
       "       'Leitrim', 'Laois', 'Fermanagh', 'Limerick', 'Tyrone', 'Kilkenny',\n",
       "       'Dublin', 'Armagh', 'Antrim', 'Kerry', 'Roscommon', 'Derry',\n",
       "       'Wicklow'], dtype=object)"
      ]
     },
     "execution_count": 204,
     "metadata": {},
     "output_type": "execute_result"
    }
   ],
   "source": [
    "# This section of the code is to create 100 dataset\n",
    "# Create dataframe for variables county, Agegroup, Vechicle type,Road Type, Weather and Number of accidents\n",
    "# User for loop to create a 200 data set\n",
    "\n",
    "### Variable 1  -- County ###\n",
    "# Use UNIFORM DISTRIBUTION to populate the county column in the dataframe\n",
    "# this ensures all the country are equally represented in the dataset.\n",
    "# On average 31 distinct counties out of 32 are populated using logic during each execution\n",
    "\n",
    "dataset = pd.DataFrame(columns=['County','Age Group','Vechicle Type','Road Type', 'Weather','No of Accidents'])\n",
    "\n",
    "for x in range(200):\n",
    "    icounty = int(round(random.uniform(0,31),0))\n",
    "    dataset.loc[x,'County'] = df_counties.at[icounty,0]\n",
    "    \n",
    "### Variable 2  -- Age Group of the Driver ###\n",
    "# Use NORMAL DISTRIBUTION to populate the Age Group column in the dataframe\n",
    "# this ensures most of the data set has \"baby boomer\" or \"Gen-X\"\n",
    "\n",
    "for x in range(200):\n",
    "    iAG = int(round(random.normal(3,2,200),0))\n",
    "    dataset.loc[x,'County'] = AgeGroup[iAG]\n",
    "    \n",
    "\n"
   ]
  },
  {
   "cell_type": "code",
   "execution_count": 208,
   "metadata": {},
   "outputs": [
    {
     "data": {
      "text/plain": [
       "array([ 5.30524620e+00,  2.92091125e+00,  3.95609642e+00,  3.14155354e+00,\n",
       "        2.05263931e+00,  2.15805529e+00,  3.04326583e+00,  3.33843153e+00,\n",
       "        2.56912728e+00,  3.69561345e+00,  3.36529323e+00,  3.64416617e+00,\n",
       "        3.63019523e+00,  3.19180590e+00,  1.11780955e+00,  3.27560361e+00,\n",
       "        5.87026231e-01,  3.55011523e+00,  6.92706944e-01,  3.87734157e+00,\n",
       "        5.10065230e+00,  2.18285609e+00,  3.23175787e+00,  3.42404282e+00,\n",
       "        2.76901629e+00,  3.84793325e+00,  2.17422699e+00,  3.62050469e-01,\n",
       "        3.29260110e+00,  4.24286267e+00,  1.19847852e+00,  3.82462706e+00,\n",
       "        4.23231297e+00,  2.46020939e+00,  2.87121729e+00,  3.65486019e+00,\n",
       "        3.19557242e+00,  2.67658145e+00,  1.46397137e+00,  2.99052067e+00,\n",
       "        1.84766150e+00,  2.28457083e+00,  3.26832350e+00,  1.49189561e+00,\n",
       "        4.40905808e+00,  3.12463263e+00,  5.42685641e+00,  4.36883218e+00,\n",
       "        5.30292605e+00,  4.60514308e+00,  3.15091385e+00,  2.75660618e+00,\n",
       "        3.24574930e+00,  1.36636860e+00, -6.00593750e-01,  3.89796773e+00,\n",
       "        1.16500831e+00,  2.91006292e+00,  3.00064927e+00,  2.58436864e+00,\n",
       "        3.32918612e+00,  1.57843626e+00,  3.78763743e+00,  2.51431583e+00,\n",
       "        5.06679995e+00,  1.29205044e+00,  2.70699580e+00,  2.40698485e+00,\n",
       "        2.01598178e+00,  9.97236682e-01,  4.01659568e+00,  2.08442621e+00,\n",
       "        1.89747004e+00,  4.67816981e+00,  2.66136837e+00,  3.48869591e+00,\n",
       "        2.33802635e+00,  4.54490575e+00,  1.27954254e+00,  1.96354551e+00,\n",
       "        3.55584368e+00,  3.13696940e+00,  3.70304465e+00,  4.92640256e+00,\n",
       "        2.77174901e+00,  2.32248509e+00,  2.94728180e+00,  2.27082634e+00,\n",
       "        2.89604021e+00,  3.12482900e+00,  3.28435303e+00,  2.24939611e+00,\n",
       "        5.37717062e+00,  3.97546201e+00,  2.88134323e+00,  3.89731102e+00,\n",
       "        2.98800348e+00,  1.62145565e+00,  2.95541608e+00,  1.89898188e+00,\n",
       "        2.94875556e+00,  1.64699004e+00,  2.62494548e+00,  4.55881239e+00,\n",
       "        2.93453975e+00,  2.03501974e+00,  3.63100890e+00,  4.05681640e+00,\n",
       "        6.07162015e+00,  2.73424648e+00,  3.12946344e+00,  3.34639747e+00,\n",
       "       -2.79497467e-03,  3.18422252e+00,  1.58252115e+00,  2.96497952e+00,\n",
       "        2.12099459e+00,  4.96674486e+00,  5.02946619e+00,  4.92070990e+00,\n",
       "        3.62920886e+00,  3.31717912e+00,  3.13510498e+00,  2.78198755e+00,\n",
       "        1.97357295e+00,  3.24098500e+00,  1.81302453e+00,  2.95673433e+00,\n",
       "        4.15580670e+00,  3.52198139e+00,  3.10216562e+00,  3.36703343e+00,\n",
       "        2.46738121e+00,  3.49429061e+00,  3.86773715e+00,  2.37975362e+00,\n",
       "        6.99972361e-01,  4.25504628e+00,  3.19598747e+00,  2.61168783e+00,\n",
       "        1.64632912e+00,  3.07950682e+00,  3.07642731e+00,  3.04702314e+00,\n",
       "        3.40644127e+00,  1.95569149e+00,  2.40497459e+00,  2.35661657e+00,\n",
       "        4.45527497e+00,  3.85280679e+00,  3.72005857e+00,  1.62223522e+00,\n",
       "        2.15796679e+00,  2.26798006e+00,  2.48083842e+00,  2.04328999e+00,\n",
       "        2.94818980e+00,  9.59389584e-01,  3.96098404e+00,  2.88083407e+00,\n",
       "        3.41362998e+00,  2.22738280e+00,  5.20076614e+00,  3.22968381e+00,\n",
       "        4.30262668e+00,  1.84589325e+00,  4.43599656e+00,  2.12319196e+00,\n",
       "        3.41759963e+00,  3.26867999e+00,  2.46970297e+00,  2.95822156e+00,\n",
       "        1.90444382e+00,  8.00356455e-01,  4.75066447e+00,  2.24081743e+00,\n",
       "        4.06029467e+00,  2.94020592e+00,  2.52636939e+00,  3.07199514e+00,\n",
       "        4.19462590e+00,  2.37952569e+00,  4.25478092e+00,  2.29772468e+00,\n",
       "        3.32436365e+00,  1.83399166e+00,  4.47800315e-01,  3.69743101e+00,\n",
       "        3.23186226e+00,  2.98966168e+00,  1.32280640e+00,  3.56983095e+00,\n",
       "        3.02894835e+00,  2.02546334e+00,  4.05293463e+00,  3.48510860e+00,\n",
       "        3.57657154e+00,  4.38256776e+00,  5.07327070e+00,  2.95790788e+00])"
      ]
     },
     "execution_count": 208,
     "metadata": {},
     "output_type": "execute_result"
    }
   ],
   "source": [
    "import numpy as np\n",
    "\n",
    "np.random.normal(3,1,200)"
   ]
  },
  {
   "cell_type": "code",
   "execution_count": null,
   "metadata": {},
   "outputs": [],
   "source": []
  },
  {
   "cell_type": "code",
   "execution_count": null,
   "metadata": {},
   "outputs": [],
   "source": []
  }
 ],
 "metadata": {
  "kernelspec": {
   "display_name": "Python 3",
   "language": "python",
   "name": "python3"
  },
  "language_info": {
   "codemirror_mode": {
    "name": "ipython",
    "version": 3
   },
   "file_extension": ".py",
   "mimetype": "text/x-python",
   "name": "python",
   "nbconvert_exporter": "python",
   "pygments_lexer": "ipython3",
   "version": "3.6.6"
  }
 },
 "nbformat": 4,
 "nbformat_minor": 2
}
